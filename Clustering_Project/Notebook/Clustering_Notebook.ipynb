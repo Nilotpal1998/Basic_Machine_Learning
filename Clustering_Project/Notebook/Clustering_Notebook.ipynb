{
 "cells": [
  {
   "cell_type": "markdown",
   "id": "subtle-trial",
   "metadata": {},
   "source": [
    "# **Clustering Project**"
   ]
  },
  {
   "cell_type": "markdown",
   "id": "combined-guarantee",
   "metadata": {},
   "source": [
    "This notebook mainly consists of the following algorithms with basic explanation on the countries dataset. the algorithms discussed here are :-\n",
    "1. **KMeans**\n",
    "2. **Mini Batch KMeans**\n",
    "3. **Mean Shift Algorithm**\n",
    "4. **Affinity Propagation**"
   ]
  },
  {
   "cell_type": "markdown",
   "id": "split-shanghai",
   "metadata": {},
   "source": [
    "We are using here the countries dataset for analysis which can be easily found in kaggle."
   ]
  },
  {
   "cell_type": "markdown",
   "id": "surprising-friendship",
   "metadata": {},
   "source": [
    "### **Importing The Necessary libraries**"
   ]
  },
  {
   "cell_type": "code",
   "execution_count": 1,
   "id": "generous-forward",
   "metadata": {},
   "outputs": [],
   "source": [
    "import numpy as np\n",
    "import pandas as pd\n",
    "import matplotlib.pyplot as plt\n"
   ]
  },
  {
   "cell_type": "markdown",
   "id": "graphic-penny",
   "metadata": {},
   "source": [
    "### **Loading The Dataset**\n"
   ]
  },
  {
   "cell_type": "code",
   "execution_count": 2,
   "id": "joint-marketing",
   "metadata": {},
   "outputs": [],
   "source": [
    "data=pd.read_csv(\"/home/nilotpal/Desktop/Small projects/Clustering_Project/Data/Country-data.csv\")"
   ]
  },
  {
   "cell_type": "code",
   "execution_count": 3,
   "id": "secure-validation",
   "metadata": {},
   "outputs": [
    {
     "data": {
      "text/html": [
       "<div>\n",
       "<style scoped>\n",
       "    .dataframe tbody tr th:only-of-type {\n",
       "        vertical-align: middle;\n",
       "    }\n",
       "\n",
       "    .dataframe tbody tr th {\n",
       "        vertical-align: top;\n",
       "    }\n",
       "\n",
       "    .dataframe thead th {\n",
       "        text-align: right;\n",
       "    }\n",
       "</style>\n",
       "<table border=\"1\" class=\"dataframe\">\n",
       "  <thead>\n",
       "    <tr style=\"text-align: right;\">\n",
       "      <th></th>\n",
       "      <th>country</th>\n",
       "      <th>child_mort</th>\n",
       "      <th>exports</th>\n",
       "      <th>health</th>\n",
       "      <th>imports</th>\n",
       "      <th>income</th>\n",
       "      <th>inflation</th>\n",
       "      <th>life_expec</th>\n",
       "      <th>total_fer</th>\n",
       "      <th>gdpp</th>\n",
       "    </tr>\n",
       "  </thead>\n",
       "  <tbody>\n",
       "    <tr>\n",
       "      <th>0</th>\n",
       "      <td>Afghanistan</td>\n",
       "      <td>90.2</td>\n",
       "      <td>10.0</td>\n",
       "      <td>7.58</td>\n",
       "      <td>44.9</td>\n",
       "      <td>1610</td>\n",
       "      <td>9.44</td>\n",
       "      <td>56.2</td>\n",
       "      <td>5.82</td>\n",
       "      <td>553</td>\n",
       "    </tr>\n",
       "    <tr>\n",
       "      <th>1</th>\n",
       "      <td>Albania</td>\n",
       "      <td>16.6</td>\n",
       "      <td>28.0</td>\n",
       "      <td>6.55</td>\n",
       "      <td>48.6</td>\n",
       "      <td>9930</td>\n",
       "      <td>4.49</td>\n",
       "      <td>76.3</td>\n",
       "      <td>1.65</td>\n",
       "      <td>4090</td>\n",
       "    </tr>\n",
       "    <tr>\n",
       "      <th>2</th>\n",
       "      <td>Algeria</td>\n",
       "      <td>27.3</td>\n",
       "      <td>38.4</td>\n",
       "      <td>4.17</td>\n",
       "      <td>31.4</td>\n",
       "      <td>12900</td>\n",
       "      <td>16.10</td>\n",
       "      <td>76.5</td>\n",
       "      <td>2.89</td>\n",
       "      <td>4460</td>\n",
       "    </tr>\n",
       "    <tr>\n",
       "      <th>3</th>\n",
       "      <td>Angola</td>\n",
       "      <td>119.0</td>\n",
       "      <td>62.3</td>\n",
       "      <td>2.85</td>\n",
       "      <td>42.9</td>\n",
       "      <td>5900</td>\n",
       "      <td>22.40</td>\n",
       "      <td>60.1</td>\n",
       "      <td>6.16</td>\n",
       "      <td>3530</td>\n",
       "    </tr>\n",
       "    <tr>\n",
       "      <th>4</th>\n",
       "      <td>Antigua and Barbuda</td>\n",
       "      <td>10.3</td>\n",
       "      <td>45.5</td>\n",
       "      <td>6.03</td>\n",
       "      <td>58.9</td>\n",
       "      <td>19100</td>\n",
       "      <td>1.44</td>\n",
       "      <td>76.8</td>\n",
       "      <td>2.13</td>\n",
       "      <td>12200</td>\n",
       "    </tr>\n",
       "    <tr>\n",
       "      <th>...</th>\n",
       "      <td>...</td>\n",
       "      <td>...</td>\n",
       "      <td>...</td>\n",
       "      <td>...</td>\n",
       "      <td>...</td>\n",
       "      <td>...</td>\n",
       "      <td>...</td>\n",
       "      <td>...</td>\n",
       "      <td>...</td>\n",
       "      <td>...</td>\n",
       "    </tr>\n",
       "    <tr>\n",
       "      <th>162</th>\n",
       "      <td>Vanuatu</td>\n",
       "      <td>29.2</td>\n",
       "      <td>46.6</td>\n",
       "      <td>5.25</td>\n",
       "      <td>52.7</td>\n",
       "      <td>2950</td>\n",
       "      <td>2.62</td>\n",
       "      <td>63.0</td>\n",
       "      <td>3.50</td>\n",
       "      <td>2970</td>\n",
       "    </tr>\n",
       "    <tr>\n",
       "      <th>163</th>\n",
       "      <td>Venezuela</td>\n",
       "      <td>17.1</td>\n",
       "      <td>28.5</td>\n",
       "      <td>4.91</td>\n",
       "      <td>17.6</td>\n",
       "      <td>16500</td>\n",
       "      <td>45.90</td>\n",
       "      <td>75.4</td>\n",
       "      <td>2.47</td>\n",
       "      <td>13500</td>\n",
       "    </tr>\n",
       "    <tr>\n",
       "      <th>164</th>\n",
       "      <td>Vietnam</td>\n",
       "      <td>23.3</td>\n",
       "      <td>72.0</td>\n",
       "      <td>6.84</td>\n",
       "      <td>80.2</td>\n",
       "      <td>4490</td>\n",
       "      <td>12.10</td>\n",
       "      <td>73.1</td>\n",
       "      <td>1.95</td>\n",
       "      <td>1310</td>\n",
       "    </tr>\n",
       "    <tr>\n",
       "      <th>165</th>\n",
       "      <td>Yemen</td>\n",
       "      <td>56.3</td>\n",
       "      <td>30.0</td>\n",
       "      <td>5.18</td>\n",
       "      <td>34.4</td>\n",
       "      <td>4480</td>\n",
       "      <td>23.60</td>\n",
       "      <td>67.5</td>\n",
       "      <td>4.67</td>\n",
       "      <td>1310</td>\n",
       "    </tr>\n",
       "    <tr>\n",
       "      <th>166</th>\n",
       "      <td>Zambia</td>\n",
       "      <td>83.1</td>\n",
       "      <td>37.0</td>\n",
       "      <td>5.89</td>\n",
       "      <td>30.9</td>\n",
       "      <td>3280</td>\n",
       "      <td>14.00</td>\n",
       "      <td>52.0</td>\n",
       "      <td>5.40</td>\n",
       "      <td>1460</td>\n",
       "    </tr>\n",
       "  </tbody>\n",
       "</table>\n",
       "<p>167 rows × 10 columns</p>\n",
       "</div>"
      ],
      "text/plain": [
       "                 country  child_mort  exports  health  imports  income  \\\n",
       "0            Afghanistan        90.2     10.0    7.58     44.9    1610   \n",
       "1                Albania        16.6     28.0    6.55     48.6    9930   \n",
       "2                Algeria        27.3     38.4    4.17     31.4   12900   \n",
       "3                 Angola       119.0     62.3    2.85     42.9    5900   \n",
       "4    Antigua and Barbuda        10.3     45.5    6.03     58.9   19100   \n",
       "..                   ...         ...      ...     ...      ...     ...   \n",
       "162              Vanuatu        29.2     46.6    5.25     52.7    2950   \n",
       "163            Venezuela        17.1     28.5    4.91     17.6   16500   \n",
       "164              Vietnam        23.3     72.0    6.84     80.2    4490   \n",
       "165                Yemen        56.3     30.0    5.18     34.4    4480   \n",
       "166               Zambia        83.1     37.0    5.89     30.9    3280   \n",
       "\n",
       "     inflation  life_expec  total_fer   gdpp  \n",
       "0         9.44        56.2       5.82    553  \n",
       "1         4.49        76.3       1.65   4090  \n",
       "2        16.10        76.5       2.89   4460  \n",
       "3        22.40        60.1       6.16   3530  \n",
       "4         1.44        76.8       2.13  12200  \n",
       "..         ...         ...        ...    ...  \n",
       "162       2.62        63.0       3.50   2970  \n",
       "163      45.90        75.4       2.47  13500  \n",
       "164      12.10        73.1       1.95   1310  \n",
       "165      23.60        67.5       4.67   1310  \n",
       "166      14.00        52.0       5.40   1460  \n",
       "\n",
       "[167 rows x 10 columns]"
      ]
     },
     "execution_count": 3,
     "metadata": {},
     "output_type": "execute_result"
    }
   ],
   "source": [
    "data"
   ]
  },
  {
   "cell_type": "markdown",
   "id": "spectacular-diabetes",
   "metadata": {},
   "source": [
    "Here we will be considering the health aspect of the countries . thus we will be mainly focussing on the **Life Expectancy** and **Total Fertility**. "
   ]
  },
  {
   "cell_type": "code",
   "execution_count": 54,
   "id": "southwest-cisco",
   "metadata": {},
   "outputs": [
    {
     "data": {
      "text/html": [
       "<div>\n",
       "<style scoped>\n",
       "    .dataframe tbody tr th:only-of-type {\n",
       "        vertical-align: middle;\n",
       "    }\n",
       "\n",
       "    .dataframe tbody tr th {\n",
       "        vertical-align: top;\n",
       "    }\n",
       "\n",
       "    .dataframe thead th {\n",
       "        text-align: right;\n",
       "    }\n",
       "</style>\n",
       "<table border=\"1\" class=\"dataframe\">\n",
       "  <thead>\n",
       "    <tr style=\"text-align: right;\">\n",
       "      <th></th>\n",
       "      <th>country</th>\n",
       "      <th>life_expec</th>\n",
       "      <th>total_fer</th>\n",
       "    </tr>\n",
       "  </thead>\n",
       "  <tbody>\n",
       "    <tr>\n",
       "      <th>0</th>\n",
       "      <td>Afghanistan</td>\n",
       "      <td>56.2</td>\n",
       "      <td>5.82</td>\n",
       "    </tr>\n",
       "    <tr>\n",
       "      <th>1</th>\n",
       "      <td>Albania</td>\n",
       "      <td>76.3</td>\n",
       "      <td>1.65</td>\n",
       "    </tr>\n",
       "    <tr>\n",
       "      <th>2</th>\n",
       "      <td>Algeria</td>\n",
       "      <td>76.5</td>\n",
       "      <td>2.89</td>\n",
       "    </tr>\n",
       "    <tr>\n",
       "      <th>3</th>\n",
       "      <td>Angola</td>\n",
       "      <td>60.1</td>\n",
       "      <td>6.16</td>\n",
       "    </tr>\n",
       "    <tr>\n",
       "      <th>4</th>\n",
       "      <td>Antigua and Barbuda</td>\n",
       "      <td>76.8</td>\n",
       "      <td>2.13</td>\n",
       "    </tr>\n",
       "    <tr>\n",
       "      <th>...</th>\n",
       "      <td>...</td>\n",
       "      <td>...</td>\n",
       "      <td>...</td>\n",
       "    </tr>\n",
       "    <tr>\n",
       "      <th>162</th>\n",
       "      <td>Vanuatu</td>\n",
       "      <td>63.0</td>\n",
       "      <td>3.50</td>\n",
       "    </tr>\n",
       "    <tr>\n",
       "      <th>163</th>\n",
       "      <td>Venezuela</td>\n",
       "      <td>75.4</td>\n",
       "      <td>2.47</td>\n",
       "    </tr>\n",
       "    <tr>\n",
       "      <th>164</th>\n",
       "      <td>Vietnam</td>\n",
       "      <td>73.1</td>\n",
       "      <td>1.95</td>\n",
       "    </tr>\n",
       "    <tr>\n",
       "      <th>165</th>\n",
       "      <td>Yemen</td>\n",
       "      <td>67.5</td>\n",
       "      <td>4.67</td>\n",
       "    </tr>\n",
       "    <tr>\n",
       "      <th>166</th>\n",
       "      <td>Zambia</td>\n",
       "      <td>52.0</td>\n",
       "      <td>5.40</td>\n",
       "    </tr>\n",
       "  </tbody>\n",
       "</table>\n",
       "<p>167 rows × 3 columns</p>\n",
       "</div>"
      ],
      "text/plain": [
       "                 country  life_expec  total_fer\n",
       "0            Afghanistan        56.2       5.82\n",
       "1                Albania        76.3       1.65\n",
       "2                Algeria        76.5       2.89\n",
       "3                 Angola        60.1       6.16\n",
       "4    Antigua and Barbuda        76.8       2.13\n",
       "..                   ...         ...        ...\n",
       "162              Vanuatu        63.0       3.50\n",
       "163            Venezuela        75.4       2.47\n",
       "164              Vietnam        73.1       1.95\n",
       "165                Yemen        67.5       4.67\n",
       "166               Zambia        52.0       5.40\n",
       "\n",
       "[167 rows x 3 columns]"
      ]
     },
     "execution_count": 54,
     "metadata": {},
     "output_type": "execute_result"
    }
   ],
   "source": [
    "df=data.iloc[:,[0,7,8]]\n",
    "df"
   ]
  },
  {
   "cell_type": "markdown",
   "id": "copyrighted-cursor",
   "metadata": {},
   "source": [
    "### **Dataset Description**"
   ]
  },
  {
   "cell_type": "markdown",
   "id": "controlling-updating",
   "metadata": {},
   "source": [
    "The data has been used to categorise the countries using basic socio economic and health factors that determine the overall development of the country."
   ]
  },
  {
   "cell_type": "markdown",
   "id": "gothic-howard",
   "metadata": {},
   "source": [
    "- **country**:Name of the country\n",
    "- **child mortality**: Death of children under 5 years of age per 1000 live births\n",
    "- **exports** : Exports of goods and services per capita. Given as %age of the GDP per capita\n",
    "- **health**: Total health spending per capita. Given as %age of GDP per capita imports\n",
    "- **imports**: Imports of goods and services per capita. Given as %age of the GDP per capita\n",
    "- **income**:Net income per person\n",
    "- **inflation**: The measurement of the annual growth rate of the Total GDP life_expec\n",
    "\n",
    "- **life expectancy**:life expectancy of the different countries .\n",
    "- **total_fertility rate**: The number of children that would be born to each woman if the current age-fertility rates remain th...\n",
    "- **gdpp**:The GDP per capita. Calculated as the Total GDP divided by the total population."
   ]
  },
  {
   "cell_type": "markdown",
   "id": "original-uncle",
   "metadata": {},
   "source": [
    "### **Clustering Method**"
   ]
  },
  {
   "cell_type": "markdown",
   "id": "musical-palestine",
   "metadata": {},
   "source": [
    "We will basically use here the k means clustering method for our clustering problem analysis. "
   ]
  },
  {
   "cell_type": "markdown",
   "id": "protective-chrome",
   "metadata": {},
   "source": [
    "### **K-Means Clustering**"
   ]
  },
  {
   "cell_type": "markdown",
   "id": "romantic-flour",
   "metadata": {},
   "source": [
    "K Means is an algorithm for unsupervised clustering: that is, finding clusters in data based on the data attributes alone (not the labels).\n",
    "\n",
    "K Means is a relatively easy-to-understand algorithm. It searches for cluster centers which are the mean of the points within them, such that every point is closest to the cluster center it is assigned to."
   ]
  },
  {
   "cell_type": "markdown",
   "id": "enormous-mason",
   "metadata": {},
   "source": [
    "### **Visualisation Of The Dataset**"
   ]
  },
  {
   "cell_type": "code",
   "execution_count": 16,
   "id": "instructional-nothing",
   "metadata": {},
   "outputs": [
    {
     "data": {
      "text/plain": [
       "<matplotlib.collections.PathCollection at 0x7f9549cf8d00>"
      ]
     },
     "execution_count": 16,
     "metadata": {},
     "output_type": "execute_result"
    },
    {
     "data": {
      "image/png": "[encoded data removed]",
      "text/plain": [
       "<Figure size 432x288 with 1 Axes>"
      ]
     },
     "metadata": {
      "needs_background": "light"
     },
     "output_type": "display_data"
    }
   ],
   "source": [
    "plt.scatter(data[\"life_expec\"],data[\"total_fer\"])"
   ]
  },
  {
   "cell_type": "markdown",
   "id": "controversial-taylor",
   "metadata": {},
   "source": [
    "### **K-Means Elbow method**"
   ]
  },
  {
   "cell_type": "markdown",
   "id": "stable-needle",
   "metadata": {},
   "source": [
    "The Elbow method is a very popular technique and **the idea is to run k-means clustering for a range of clusters k and for each value, we are calculating the sum of squared distances from each point to its assigned center**(distortions)."
   ]
  },
  {
   "cell_type": "markdown",
   "id": "applied-killer",
   "metadata": {},
   "source": [
    "Here, we would be considering the range of data from say **1 to 10**."
   ]
  },
  {
   "cell_type": "code",
   "execution_count": 57,
   "id": "tender-whole",
   "metadata": {},
   "outputs": [],
   "source": [
    "distortions=[]\n",
    "K=range(1,10)\n",
    "for i in K:\n",
    "    kmeanModel=KMeans(n_clusters=i)\n",
    "    kmeanModel.fit(df.iloc[:,[1,2]])\n",
    "    distortions.append(kmeanModel.inertia_)"
   ]
  },
  {
   "cell_type": "code",
   "execution_count": 58,
   "id": "comparative-confirmation",
   "metadata": {},
   "outputs": [
    {
     "data": {
      "text/plain": [
       "Text(0.5, 1.0, 'Optimal Value Of K')"
      ]
     },
     "execution_count": 58,
     "metadata": {},
     "output_type": "execute_result"
    },
    {
     "data": {
      "image/png": "[encoded data removed]",
      "text/plain": [
       "<Figure size 720x720 with 1 Axes>"
      ]
     },
     "metadata": {
      "needs_background": "light"
     },
     "output_type": "display_data"
    }
   ],
   "source": [
    "plt.figure(figsize=(10,10))\n",
    "plt.plot(K,distortions,\"r*\",50)\n",
    "plt.plot(K,distortions,\"g--\",2)\n",
    "plt.xlabel('K')\n",
    "plt.ylabel('Distortions')\n",
    "plt.title(\"Optimal Value Of K\")"
   ]
  },
  {
   "cell_type": "markdown",
   "id": "everyday-beads",
   "metadata": {},
   "source": [
    "Thus, from the above elbow plot we can infer the ptimal number of clusters."
   ]
  },
  {
   "cell_type": "markdown",
   "id": "sacred-bonus",
   "metadata": {},
   "source": [
    "### **KMeans Clustering**"
   ]
  },
  {
   "cell_type": "code",
   "execution_count": 17,
   "id": "fitting-costa",
   "metadata": {},
   "outputs": [],
   "source": [
    "from sklearn.cluster import KMeans"
   ]
  },
  {
   "cell_type": "code",
   "execution_count": 82,
   "id": "earned-filter",
   "metadata": {},
   "outputs": [
    {
     "data": {
      "text/plain": [
       "0.07383203506469727"
      ]
     },
     "execution_count": 82,
     "metadata": {},
     "output_type": "execute_result"
    }
   ],
   "source": [
    "from sklearn.cluster import KMeans\n",
    "est = KMeans(4)  # 4 clusters\n",
    "t0=time.time()\n",
    "est.fit(df.iloc[:,[1,2]])\n",
    "t_K_Means=time.time()-t0\n",
    "t_K_Means"
   ]
  },
  {
   "cell_type": "code",
   "execution_count": 149,
   "id": "molecular-titanium",
   "metadata": {},
   "outputs": [
    {
     "data": {
      "text/plain": [
       "Text(0.5, 1.0, 'KMeans Clustering Of Countries')"
      ]
     },
     "execution_count": 149,
     "metadata": {},
     "output_type": "execute_result"
    },
    {
     "data": {
      "image/png": "[encoded data removed]",
      "text/plain": [
       "<Figure size 432x288 with 1 Axes>"
      ]
     },
     "metadata": {
      "needs_background": "light"
     },
     "output_type": "display_data"
    }
   ],
   "source": [
    "y_kmeans = est.predict(df.iloc[:,[1,2]])\n",
    "plt.figure()\n",
    "plt.scatter(df.iloc[:, 1], df.iloc[:, 2], c=y_kmeans, s=50, cmap='rainbow')\n",
    "for i in range(len(est.cluster_centers_)):\n",
    "    x=est.cluster_centers_[i][0]\n",
    "    y=est.cluster_centers_[i][1]\n",
    "    plt.plot(x,y,\"g*\")\n",
    "plt.xlabel('Life_Expectancy')\n",
    "plt.ylabel('Total_Fertility')\n",
    "plt.title(\"KMeans Clustering Of Countries\")"
   ]
  },
  {
   "cell_type": "markdown",
   "id": "technological-survey",
   "metadata": {},
   "source": [
    "### **Mini-Batch KMeans Algorithm**"
   ]
  },
  {
   "cell_type": "markdown",
   "id": "advance-series",
   "metadata": {},
   "source": [
    "The MiniBatchKMeans is a variant of the KMeans algorithm which uses mini-batches to reduce the computation time, while still attempting to optimise the same objective function. Mini-batches are subsets of the input data, randomly sampled in each training iteration. These mini-batches drastically reduce the amount of computation required to converge to a local solution."
   ]
  },
  {
   "cell_type": "code",
   "execution_count": 61,
   "id": "horizontal-bacteria",
   "metadata": {},
   "outputs": [],
   "source": [
    "import time"
   ]
  },
  {
   "cell_type": "code",
   "execution_count": 62,
   "id": "fifty-mortgage",
   "metadata": {},
   "outputs": [],
   "source": [
    "import numpy as np\n",
    "import matplotlib.pyplot as plt\n",
    "import pandas as pd\n",
    "from sklearn.cluster import MiniBatchKMeans, KMeans\n",
    "from sklearn.metrics.pairwise import pairwise_distances_argmin"
   ]
  },
  {
   "cell_type": "code",
   "execution_count": 79,
   "id": "derived-posting",
   "metadata": {},
   "outputs": [
    {
     "data": {
      "text/plain": [
       "0.08474230766296387"
      ]
     },
     "execution_count": 79,
     "metadata": {},
     "output_type": "execute_result"
    }
   ],
   "source": [
    "mbk=MiniBatchKMeans(n_clusters=4,batch_size=25,\n",
    "                   n_init=10,max_no_improvement=10)\n",
    "t0=time.time()\n",
    "mbk.fit(df.iloc[:,[1,2]])\n",
    "t_mini_batch=time.time()-t0\n",
    "t_mini_batch"
   ]
  },
  {
   "cell_type": "code",
   "execution_count": 135,
   "id": "gentle-broadway",
   "metadata": {},
   "outputs": [
    {
     "data": {
      "text/plain": [
       "Text(0.5, 1.0, 'Mini Batch KMeans Clustering Of Countries')"
      ]
     },
     "execution_count": 135,
     "metadata": {},
     "output_type": "execute_result"
    },
    {
     "data": {
      "image/png": "[encoded data removed]",
      "text/plain": [
       "<Figure size 432x288 with 1 Axes>"
      ]
     },
     "metadata": {
      "needs_background": "light"
     },
     "output_type": "display_data"
    }
   ],
   "source": [
    "y_mimibatch_kmeans = mbk.predict(df.iloc[:,[1,2]])\n",
    "plt.figure()\n",
    "plt.scatter(df.iloc[:, 1], df.iloc[:, 2], c=y_mimibatch_kmeans, s=50, cmap='rainbow')\n",
    "for i in range(len(mbk.cluster_centers_)):\n",
    "    x=mbk.cluster_centers_[i][0]\n",
    "    y=mbk.cluster_centers_[i][1]\n",
    "    plt.plot(x,y,\"g*\")\n",
    "plt.xlabel('Life_Expectancy')\n",
    "plt.ylabel('Total_Fertility')\n",
    "plt.title(\"Mini Batch KMeans Clustering Of Countries\")"
   ]
  },
  {
   "cell_type": "markdown",
   "id": "recognized-maryland",
   "metadata": {},
   "source": [
    "### **Mean Shift Algorithm**"
   ]
  },
  {
   "cell_type": "markdown",
   "id": "numerous-groove",
   "metadata": {},
   "source": [
    "MeanShift clustering aims to discover blobs in a smooth density of samples. It is a centroid based algorithm, which works by updating candidates for centroids to be the mean of the points within a given region. These candidates are then filtered in a post-processing stage to eliminate near-duplicates to form the final set of centroids."
   ]
  },
  {
   "cell_type": "code",
   "execution_count": 99,
   "id": "cognitive-execution",
   "metadata": {},
   "outputs": [],
   "source": [
    "from sklearn.cluster import MeanShift,estimate_bandwidth"
   ]
  },
  {
   "cell_type": "code",
   "execution_count": 100,
   "id": "regional-package",
   "metadata": {},
   "outputs": [],
   "source": [
    "bandwidth=estimate_bandwidth(df.iloc[:,[1,2]],quantile=0.2, n_samples=500)"
   ]
  },
  {
   "cell_type": "code",
   "execution_count": 101,
   "id": "fallen-afghanistan",
   "metadata": {},
   "outputs": [
    {
     "name": "stdout",
     "output_type": "stream",
     "text": [
      "number of estimated clusters : 5\n"
     ]
    }
   ],
   "source": [
    "ms = MeanShift(bandwidth=bandwidth, bin_seeding=True)\n",
    "ms.fit(X)\n",
    "labels = ms.labels_\n",
    "cluster_centers = ms.cluster_centers_\n",
    "\n",
    "labels_unique = np.unique(labels)\n",
    "n_clusters_ = len(labels_unique)\n",
    "\n",
    "print(\"number of estimated clusters : %d\" % n_clusters_)\n"
   ]
  },
  {
   "cell_type": "code",
   "execution_count": 134,
   "id": "productive-sperm",
   "metadata": {},
   "outputs": [
    {
     "data": {
      "text/plain": [
       "Text(0.5, 1.0, 'MeanShift Clustering Of Countries')"
      ]
     },
     "execution_count": 134,
     "metadata": {},
     "output_type": "execute_result"
    },
    {
     "data": {
      "image/png": "[encoded data removed]",
      "text/plain": [
       "<Figure size 432x288 with 1 Axes>"
      ]
     },
     "metadata": {
      "needs_background": "light"
     },
     "output_type": "display_data"
    }
   ],
   "source": [
    "y_mean_shift=ms.predict(df.iloc[:,[1,2]])\n",
    "plt.figure()\n",
    "plt.scatter(df.iloc[:, 1], df.iloc[:, 2], c=y_mean_shift, s=50, cmap='rainbow')\n",
    "for i in range(len(ms.cluster_centers_)):\n",
    "    x=ms.cluster_centers_[i][0]\n",
    "    y=ms.cluster_centers_[i][1]\n",
    "    plt.plot(x,y,\"g*\")\n",
    "plt.xlabel('Life_Expectancy')\n",
    "plt.ylabel('Total_Fertility')\n",
    "plt.title(\"MeanShift Clustering Of Countries\")"
   ]
  },
  {
   "cell_type": "markdown",
   "id": "economic-friendly",
   "metadata": {},
   "source": [
    "### **Affinity Propagation**"
   ]
  },
  {
   "cell_type": "markdown",
   "id": "geological-academy",
   "metadata": {},
   "source": [
    "**Affinity Propagation** creates clusters by sending messages between pairs of samples until convergence. A dataset is then described using a small number of exemplars, which are identified as those most representative of other samples. The messages sent between pairs represent the suitability for one sample to be the exemplar of the other, which is updated in response to the values from other pairs. This updating happens iteratively until convergence, at which point the final exemplars are chosen, and hence the final clustering is given."
   ]
  },
  {
   "cell_type": "code",
   "execution_count": 136,
   "id": "greek-telling",
   "metadata": {},
   "outputs": [],
   "source": [
    "from sklearn.cluster import AffinityPropagation\n",
    "from sklearn import metrics"
   ]
  },
  {
   "cell_type": "code",
   "execution_count": 137,
   "id": "attractive-broadway",
   "metadata": {},
   "outputs": [
    {
     "name": "stderr",
     "output_type": "stream",
     "text": [
      "/home/nilotpal/.local/lib/python3.8/site-packages/sklearn/cluster/_affinity_propagation.py:148: FutureWarning: 'random_state' has been introduced in 0.23. It will be set to None starting from 1.0 (renaming of 0.25) which means that results will differ at every function call. Set 'random_state' to None to silence this warning, or to 0 to keep the behavior of versions <0.23.\n",
      "  warnings.warn(\n"
     ]
    }
   ],
   "source": [
    "af = AffinityPropagation(preference=-50).fit(df.iloc[:,[1,2]])\n",
    "cluster_centers_indices = af.cluster_centers_indices_\n",
    "labels = af.labels_\n",
    "n_clusters_ = len(cluster_centers_indices)"
   ]
  },
  {
   "cell_type": "code",
   "execution_count": 140,
   "id": "classical-anniversary",
   "metadata": {},
   "outputs": [
    {
     "data": {
      "text/plain": [
       "Text(0.5, 1.0, 'MeanShift Clustering Of Countries')"
      ]
     },
     "execution_count": 140,
     "metadata": {},
     "output_type": "execute_result"
    },
    {
     "data": {
      "image/png": "[encoded data removed]",
      "text/plain": [
       "<Figure size 432x288 with 1 Axes>"
      ]
     },
     "metadata": {
      "needs_background": "light"
     },
     "output_type": "display_data"
    }
   ],
   "source": [
    "y_af=af.predict(df.iloc[:,[1,2]])\n",
    "plt.figure()\n",
    "plt.scatter(df.iloc[:, 1], df.iloc[:, 2], c=y_af, s=50, cmap='rainbow')\n",
    "for i in range(len(af.cluster_centers_)):\n",
    "    x=af.cluster_centers_[i][0]\n",
    "    y=af.cluster_centers_[i][1]\n",
    "    plt.plot(x,y,\"g*\")\n",
    "plt.xlabel('Life_Expectancy')\n",
    "plt.ylabel('Total_Fertility')\n",
    "plt.title(\" Clustering Of Countries\")"
   ]
  },
  {
   "cell_type": "code",
   "execution_count": null,
   "id": "pursuant-pakistan",
   "metadata": {},
   "outputs": [],
   "source": []
  }
 ],
 "metadata": {
  "kernelspec": {
   "display_name": "Python 3",
   "language": "python",
   "name": "python3"
  },
  "language_info": {
   "codemirror_mode": {
    "name": "ipython",
    "version": 3
   },
   "file_extension": ".py",
   "mimetype": "text/x-python",
   "name": "python",
   "nbconvert_exporter": "python",
   "pygments_lexer": "ipython3",
   "version": "3.8.10"
  }
 },
 "nbformat": 4,
 "nbformat_minor": 5
}
